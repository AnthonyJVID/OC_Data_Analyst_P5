{
 "cells": [
  {
   "cell_type": "markdown",
   "id": "0ec4d363",
   "metadata": {},
   "source": [
    "# <span style=\"color:#004f29\"><u> Optimisez la gestion des données d'une boutique avec Python </u></span> "
   ]
  },
  {
   "cell_type": "markdown",
   "id": "c455b1cd",
   "metadata": {
    "tags": []
   },
   "source": [
    "## <span style=\"color:#1a8e88\"><u> 1 - Importation des librairies </u> </span>"
   ]
  },
  {
   "cell_type": "code",
   "execution_count": 1,
   "id": "5aa05418",
   "metadata": {},
   "outputs": [],
   "source": [
    "import pandas as pd\n",
    "import numpy as np\n",
    "import matplotlib.pyplot as plt\n",
    "import seaborn as sns\n",
    "from IPython.display import display\n",
    "from scipy import stats\n",
    "import warnings"
   ]
  },
  {
   "cell_type": "markdown",
   "id": "c0f6c2f3",
   "metadata": {},
   "source": [
    "## <span style=\"color:#1a8e88\"><u>2 - Importation des fichiers</u></span>"
   ]
  },
  {
   "cell_type": "code",
   "execution_count": 2,
   "id": "f2f935fe",
   "metadata": {},
   "outputs": [],
   "source": [
    "# Les fichier \".xlsx\" entraîne un message d'avertissement \"UserWarning\"\n",
    "# Ajout d'une ligne de code pour ignorer les avertissements de cette catégorie\n",
    "warnings.filterwarnings(\"ignore\", category=UserWarning, module=\"openpyxl.worksheet._read_only\")"
   ]
  },
  {
   "cell_type": "code",
   "execution_count": 3,
   "id": "0318a25b",
   "metadata": {},
   "outputs": [
    {
     "ename": "FileNotFoundError",
     "evalue": "[Errno 2] No such file or directory: 'erp.xlsx'",
     "output_type": "error",
     "traceback": [
      "\u001b[1;31m---------------------------------------------------------------------------\u001b[0m",
      "\u001b[1;31mFileNotFoundError\u001b[0m                         Traceback (most recent call last)",
      "Cell \u001b[1;32mIn[3], line 1\u001b[0m\n\u001b[1;32m----> 1\u001b[0m erp \u001b[38;5;241m=\u001b[39m \u001b[43mpd\u001b[49m\u001b[38;5;241;43m.\u001b[39;49m\u001b[43mread_excel\u001b[49m\u001b[43m(\u001b[49m\u001b[38;5;124;43m\"\u001b[39;49m\u001b[38;5;124;43merp.xlsx\u001b[39;49m\u001b[38;5;124;43m\"\u001b[39;49m\u001b[43m)\u001b[49m\n\u001b[0;32m      2\u001b[0m liaison \u001b[38;5;241m=\u001b[39m pd\u001b[38;5;241m.\u001b[39mread_excel(\u001b[38;5;124m\"\u001b[39m\u001b[38;5;124mliaison.xlsx\u001b[39m\u001b[38;5;124m\"\u001b[39m)\n\u001b[0;32m      3\u001b[0m web \u001b[38;5;241m=\u001b[39m pd\u001b[38;5;241m.\u001b[39mread_excel(\u001b[38;5;124m\"\u001b[39m\u001b[38;5;124mweb.xlsx\u001b[39m\u001b[38;5;124m\"\u001b[39m)\n",
      "File \u001b[1;32mC:\\ProgramData\\anaconda3\\lib\\site-packages\\pandas\\util\\_decorators.py:211\u001b[0m, in \u001b[0;36mdeprecate_kwarg.<locals>._deprecate_kwarg.<locals>.wrapper\u001b[1;34m(*args, **kwargs)\u001b[0m\n\u001b[0;32m    209\u001b[0m     \u001b[38;5;28;01melse\u001b[39;00m:\n\u001b[0;32m    210\u001b[0m         kwargs[new_arg_name] \u001b[38;5;241m=\u001b[39m new_arg_value\n\u001b[1;32m--> 211\u001b[0m \u001b[38;5;28;01mreturn\u001b[39;00m func(\u001b[38;5;241m*\u001b[39margs, \u001b[38;5;241m*\u001b[39m\u001b[38;5;241m*\u001b[39mkwargs)\n",
      "File \u001b[1;32mC:\\ProgramData\\anaconda3\\lib\\site-packages\\pandas\\util\\_decorators.py:331\u001b[0m, in \u001b[0;36mdeprecate_nonkeyword_arguments.<locals>.decorate.<locals>.wrapper\u001b[1;34m(*args, **kwargs)\u001b[0m\n\u001b[0;32m    325\u001b[0m \u001b[38;5;28;01mif\u001b[39;00m \u001b[38;5;28mlen\u001b[39m(args) \u001b[38;5;241m>\u001b[39m num_allow_args:\n\u001b[0;32m    326\u001b[0m     warnings\u001b[38;5;241m.\u001b[39mwarn(\n\u001b[0;32m    327\u001b[0m         msg\u001b[38;5;241m.\u001b[39mformat(arguments\u001b[38;5;241m=\u001b[39m_format_argument_list(allow_args)),\n\u001b[0;32m    328\u001b[0m         \u001b[38;5;167;01mFutureWarning\u001b[39;00m,\n\u001b[0;32m    329\u001b[0m         stacklevel\u001b[38;5;241m=\u001b[39mfind_stack_level(),\n\u001b[0;32m    330\u001b[0m     )\n\u001b[1;32m--> 331\u001b[0m \u001b[38;5;28;01mreturn\u001b[39;00m func(\u001b[38;5;241m*\u001b[39margs, \u001b[38;5;241m*\u001b[39m\u001b[38;5;241m*\u001b[39mkwargs)\n",
      "File \u001b[1;32mC:\\ProgramData\\anaconda3\\lib\\site-packages\\pandas\\io\\excel\\_base.py:482\u001b[0m, in \u001b[0;36mread_excel\u001b[1;34m(io, sheet_name, header, names, index_col, usecols, squeeze, dtype, engine, converters, true_values, false_values, skiprows, nrows, na_values, keep_default_na, na_filter, verbose, parse_dates, date_parser, thousands, decimal, comment, skipfooter, convert_float, mangle_dupe_cols, storage_options)\u001b[0m\n\u001b[0;32m    480\u001b[0m \u001b[38;5;28;01mif\u001b[39;00m \u001b[38;5;129;01mnot\u001b[39;00m \u001b[38;5;28misinstance\u001b[39m(io, ExcelFile):\n\u001b[0;32m    481\u001b[0m     should_close \u001b[38;5;241m=\u001b[39m \u001b[38;5;28;01mTrue\u001b[39;00m\n\u001b[1;32m--> 482\u001b[0m     io \u001b[38;5;241m=\u001b[39m \u001b[43mExcelFile\u001b[49m\u001b[43m(\u001b[49m\u001b[43mio\u001b[49m\u001b[43m,\u001b[49m\u001b[43m \u001b[49m\u001b[43mstorage_options\u001b[49m\u001b[38;5;241;43m=\u001b[39;49m\u001b[43mstorage_options\u001b[49m\u001b[43m,\u001b[49m\u001b[43m \u001b[49m\u001b[43mengine\u001b[49m\u001b[38;5;241;43m=\u001b[39;49m\u001b[43mengine\u001b[49m\u001b[43m)\u001b[49m\n\u001b[0;32m    483\u001b[0m \u001b[38;5;28;01melif\u001b[39;00m engine \u001b[38;5;129;01mand\u001b[39;00m engine \u001b[38;5;241m!=\u001b[39m io\u001b[38;5;241m.\u001b[39mengine:\n\u001b[0;32m    484\u001b[0m     \u001b[38;5;28;01mraise\u001b[39;00m \u001b[38;5;167;01mValueError\u001b[39;00m(\n\u001b[0;32m    485\u001b[0m         \u001b[38;5;124m\"\u001b[39m\u001b[38;5;124mEngine should not be specified when passing \u001b[39m\u001b[38;5;124m\"\u001b[39m\n\u001b[0;32m    486\u001b[0m         \u001b[38;5;124m\"\u001b[39m\u001b[38;5;124man ExcelFile - ExcelFile already has the engine set\u001b[39m\u001b[38;5;124m\"\u001b[39m\n\u001b[0;32m    487\u001b[0m     )\n",
      "File \u001b[1;32mC:\\ProgramData\\anaconda3\\lib\\site-packages\\pandas\\io\\excel\\_base.py:1652\u001b[0m, in \u001b[0;36mExcelFile.__init__\u001b[1;34m(self, path_or_buffer, engine, storage_options)\u001b[0m\n\u001b[0;32m   1650\u001b[0m     ext \u001b[38;5;241m=\u001b[39m \u001b[38;5;124m\"\u001b[39m\u001b[38;5;124mxls\u001b[39m\u001b[38;5;124m\"\u001b[39m\n\u001b[0;32m   1651\u001b[0m \u001b[38;5;28;01melse\u001b[39;00m:\n\u001b[1;32m-> 1652\u001b[0m     ext \u001b[38;5;241m=\u001b[39m \u001b[43minspect_excel_format\u001b[49m\u001b[43m(\u001b[49m\n\u001b[0;32m   1653\u001b[0m \u001b[43m        \u001b[49m\u001b[43mcontent_or_path\u001b[49m\u001b[38;5;241;43m=\u001b[39;49m\u001b[43mpath_or_buffer\u001b[49m\u001b[43m,\u001b[49m\u001b[43m \u001b[49m\u001b[43mstorage_options\u001b[49m\u001b[38;5;241;43m=\u001b[39;49m\u001b[43mstorage_options\u001b[49m\n\u001b[0;32m   1654\u001b[0m \u001b[43m    \u001b[49m\u001b[43m)\u001b[49m\n\u001b[0;32m   1655\u001b[0m     \u001b[38;5;28;01mif\u001b[39;00m ext \u001b[38;5;129;01mis\u001b[39;00m \u001b[38;5;28;01mNone\u001b[39;00m:\n\u001b[0;32m   1656\u001b[0m         \u001b[38;5;28;01mraise\u001b[39;00m \u001b[38;5;167;01mValueError\u001b[39;00m(\n\u001b[0;32m   1657\u001b[0m             \u001b[38;5;124m\"\u001b[39m\u001b[38;5;124mExcel file format cannot be determined, you must specify \u001b[39m\u001b[38;5;124m\"\u001b[39m\n\u001b[0;32m   1658\u001b[0m             \u001b[38;5;124m\"\u001b[39m\u001b[38;5;124man engine manually.\u001b[39m\u001b[38;5;124m\"\u001b[39m\n\u001b[0;32m   1659\u001b[0m         )\n",
      "File \u001b[1;32mC:\\ProgramData\\anaconda3\\lib\\site-packages\\pandas\\io\\excel\\_base.py:1525\u001b[0m, in \u001b[0;36minspect_excel_format\u001b[1;34m(content_or_path, storage_options)\u001b[0m\n\u001b[0;32m   1522\u001b[0m \u001b[38;5;28;01mif\u001b[39;00m \u001b[38;5;28misinstance\u001b[39m(content_or_path, \u001b[38;5;28mbytes\u001b[39m):\n\u001b[0;32m   1523\u001b[0m     content_or_path \u001b[38;5;241m=\u001b[39m BytesIO(content_or_path)\n\u001b[1;32m-> 1525\u001b[0m \u001b[38;5;28;01mwith\u001b[39;00m \u001b[43mget_handle\u001b[49m\u001b[43m(\u001b[49m\n\u001b[0;32m   1526\u001b[0m \u001b[43m    \u001b[49m\u001b[43mcontent_or_path\u001b[49m\u001b[43m,\u001b[49m\u001b[43m \u001b[49m\u001b[38;5;124;43m\"\u001b[39;49m\u001b[38;5;124;43mrb\u001b[39;49m\u001b[38;5;124;43m\"\u001b[39;49m\u001b[43m,\u001b[49m\u001b[43m \u001b[49m\u001b[43mstorage_options\u001b[49m\u001b[38;5;241;43m=\u001b[39;49m\u001b[43mstorage_options\u001b[49m\u001b[43m,\u001b[49m\u001b[43m \u001b[49m\u001b[43mis_text\u001b[49m\u001b[38;5;241;43m=\u001b[39;49m\u001b[38;5;28;43;01mFalse\u001b[39;49;00m\n\u001b[0;32m   1527\u001b[0m \u001b[43m\u001b[49m\u001b[43m)\u001b[49m \u001b[38;5;28;01mas\u001b[39;00m handle:\n\u001b[0;32m   1528\u001b[0m     stream \u001b[38;5;241m=\u001b[39m handle\u001b[38;5;241m.\u001b[39mhandle\n\u001b[0;32m   1529\u001b[0m     stream\u001b[38;5;241m.\u001b[39mseek(\u001b[38;5;241m0\u001b[39m)\n",
      "File \u001b[1;32mC:\\ProgramData\\anaconda3\\lib\\site-packages\\pandas\\io\\common.py:865\u001b[0m, in \u001b[0;36mget_handle\u001b[1;34m(path_or_buf, mode, encoding, compression, memory_map, is_text, errors, storage_options)\u001b[0m\n\u001b[0;32m    856\u001b[0m         handle \u001b[38;5;241m=\u001b[39m \u001b[38;5;28mopen\u001b[39m(\n\u001b[0;32m    857\u001b[0m             handle,\n\u001b[0;32m    858\u001b[0m             ioargs\u001b[38;5;241m.\u001b[39mmode,\n\u001b[1;32m   (...)\u001b[0m\n\u001b[0;32m    861\u001b[0m             newline\u001b[38;5;241m=\u001b[39m\u001b[38;5;124m\"\u001b[39m\u001b[38;5;124m\"\u001b[39m,\n\u001b[0;32m    862\u001b[0m         )\n\u001b[0;32m    863\u001b[0m     \u001b[38;5;28;01melse\u001b[39;00m:\n\u001b[0;32m    864\u001b[0m         \u001b[38;5;66;03m# Binary mode\u001b[39;00m\n\u001b[1;32m--> 865\u001b[0m         handle \u001b[38;5;241m=\u001b[39m \u001b[38;5;28;43mopen\u001b[39;49m\u001b[43m(\u001b[49m\u001b[43mhandle\u001b[49m\u001b[43m,\u001b[49m\u001b[43m \u001b[49m\u001b[43mioargs\u001b[49m\u001b[38;5;241;43m.\u001b[39;49m\u001b[43mmode\u001b[49m\u001b[43m)\u001b[49m\n\u001b[0;32m    866\u001b[0m     handles\u001b[38;5;241m.\u001b[39mappend(handle)\n\u001b[0;32m    868\u001b[0m \u001b[38;5;66;03m# Convert BytesIO or file objects passed with an encoding\u001b[39;00m\n",
      "\u001b[1;31mFileNotFoundError\u001b[0m: [Errno 2] No such file or directory: 'erp.xlsx'"
     ]
    }
   ],
   "source": [
    "erp = pd.read_excel(\"erp.xlsx\")\n",
    "liaison = pd.read_excel(\"liaison.xlsx\")\n",
    "web = pd.read_excel(\"web.xlsx\")"
   ]
  },
  {
   "cell_type": "code",
   "execution_count": null,
   "id": "baecd5c0",
   "metadata": {},
   "outputs": [],
   "source": [
    "# Vérification de la version de \"openpyxl\"\n",
    "!pip show openpyxl"
   ]
  },
  {
   "cell_type": "code",
   "execution_count": null,
   "id": "9048897e",
   "metadata": {},
   "outputs": [],
   "source": [
    "# Mise a jour vers la version la plus récente\n",
    "!pip install --upgrade openpyxl"
   ]
  },
  {
   "cell_type": "markdown",
   "id": "712223fa",
   "metadata": {},
   "source": [
    "## <span style=\"color:#1a8e88\"><u>3 - Visualisation du dataframe \"ERP\"</u></span>"
   ]
  },
  {
   "cell_type": "markdown",
   "id": "87380920",
   "metadata": {
    "tags": []
   },
   "source": [
    "### <span style=\"color:#2651ac\">3.1 - Consultation des données</span>"
   ]
  },
  {
   "cell_type": "code",
   "execution_count": null,
   "id": "d8a4aab7",
   "metadata": {},
   "outputs": [],
   "source": [
    "erp"
   ]
  },
  {
   "cell_type": "code",
   "execution_count": null,
   "id": "0d07f15a",
   "metadata": {},
   "outputs": [],
   "source": [
    "erp.info()"
   ]
  },
  {
   "cell_type": "code",
   "execution_count": null,
   "id": "b0bf0433",
   "metadata": {},
   "outputs": [],
   "source": [
    "erp.isnull().sum()"
   ]
  },
  {
   "cell_type": "markdown",
   "id": "c5300f0e",
   "metadata": {},
   "source": [
    "### <span style=\"color:#2651ac\">3.2 - affichage d'une anomalie </span>"
   ]
  },
  {
   "cell_type": "code",
   "execution_count": null,
   "id": "9e5de08d",
   "metadata": {
    "scrolled": true
   },
   "outputs": [],
   "source": [
    "#L'id 4954 indique un stock à 0 mais un statut \"instock\"\n",
    "print(erp.loc[erp[\"product_id\"] == 4954])"
   ]
  },
  {
   "cell_type": "markdown",
   "id": "afc13562",
   "metadata": {},
   "source": [
    "### <span style=\"color:#2651ac\">3.3 - Correction</span>"
   ]
  },
  {
   "cell_type": "code",
   "execution_count": null,
   "id": "98982853",
   "metadata": {},
   "outputs": [],
   "source": [
    "# Création d'une fonction qui va indiquer dans la colonne 'stock_status' une \"rupture\" si le stock est à 0 et \"en stock\" si la valeur est supérieur.\n",
    "def etat_des_stocks(df):\n",
    "    df['stock_status'] = np.where(df['stock_quantity'] == 0, 'rupture','en stock')"
   ]
  },
  {
   "cell_type": "markdown",
   "id": "33d6a1e0",
   "metadata": {},
   "source": [
    "#### <span style=\"color:#0092a8\">Vérification</span>"
   ]
  },
  {
   "cell_type": "code",
   "execution_count": null,
   "id": "17ef0e82",
   "metadata": {
    "scrolled": true
   },
   "outputs": [],
   "source": [
    "etat_des_stocks(erp)\n",
    "erp"
   ]
  },
  {
   "cell_type": "code",
   "execution_count": null,
   "id": "0c9e6ce4",
   "metadata": {},
   "outputs": [],
   "source": [
    "# Vérification de l'id 4954\n",
    "print(erp.loc[erp[\"product_id\"] == 4954])"
   ]
  },
  {
   "cell_type": "markdown",
   "id": "240b8f7b",
   "metadata": {},
   "source": [
    "#### <span style=\"color:#0092a8\">J'exporte le fichier pour une nouvelle analyse</span>"
   ]
  },
  {
   "cell_type": "code",
   "execution_count": null,
   "id": "c0db1c84",
   "metadata": {},
   "outputs": [],
   "source": [
    "erp.to_excel('erp_v2.xlsx', sheet_name='EtatStock')"
   ]
  },
  {
   "cell_type": "markdown",
   "id": "6c79b008",
   "metadata": {},
   "source": [
    "### <span style=\"color:#2651ac\">3.4 - Vérification de la colonne \"product_id\"</span>"
   ]
  },
  {
   "cell_type": "code",
   "execution_count": null,
   "id": "ac65babc",
   "metadata": {},
   "outputs": [],
   "source": [
    "# Création d'une fonction à double usage :\n",
    "# 1 - Vérification de l'unicité d'une colonne\n",
    "# 2 - Indique si il y a des doublons dans la colonne ainsi que la quantité trouvée\n",
    "def verifClePrimaireEtDoublons(df, colonne):\n",
    "    \"\"\"Fonction qui prend en entrée un dataframe et une colonne, vérifie si cette colonne est une clé primaire valide, détecte les doublons et renvoie les doublons s'il y en a\"\"\"\n",
    "    valeurs_uniques = df[colonne].nunique()\n",
    "    nombre_lignes = len(df)\n",
    "    doublons = df[df.duplicated(subset=colonne, keep=False)]\n",
    "    if valeurs_uniques == nombre_lignes:\n",
    "        print(f\"La colonne '{colonne}' est une clé primaire valide\")\n",
    "    else:\n",
    "        print(f\"La colonne '{colonne}' n'est pas une clé primaire valide\")\n",
    "\n",
    "    if len(doublons)>0:\n",
    "        print(f\"Il y a {len(doublons)} doublons dans la colonne '{colonne}'.\")\n",
    "        return doublons\n",
    "    else:\n",
    "        print(f\"Il n'y a pas de doublons dans la colonne '{colonne}'.\")\n",
    "        return"
   ]
  },
  {
   "cell_type": "markdown",
   "id": "c98ea98c",
   "metadata": {},
   "source": [
    "##### <span style=\"color:#0092a8\">application de la fonction</span>"
   ]
  },
  {
   "cell_type": "code",
   "execution_count": null,
   "id": "f6ff9d64",
   "metadata": {
    "scrolled": true
   },
   "outputs": [],
   "source": [
    "# Utilisation de la fonction sur le dataframe \"ERP\" et la colonne \"product_id\"\n",
    "verifClePrimaireEtDoublons(erp, \"product_id\")"
   ]
  },
  {
   "cell_type": "markdown",
   "id": "86a9bd8a",
   "metadata": {},
   "source": [
    "## <span style=\"color:#1a8e88\"><u>4 - Visualisation du dataframe \"Liaison\"</u></span>"
   ]
  },
  {
   "cell_type": "markdown",
   "id": "144320a6",
   "metadata": {},
   "source": [
    "### <span style=\"color:#2651ac\">4.1 - Consultation des données</span>"
   ]
  },
  {
   "cell_type": "code",
   "execution_count": null,
   "id": "bab2f095",
   "metadata": {
    "scrolled": true
   },
   "outputs": [],
   "source": [
    "liaison"
   ]
  },
  {
   "cell_type": "code",
   "execution_count": null,
   "id": "3a311803",
   "metadata": {},
   "outputs": [],
   "source": [
    "liaison.info()"
   ]
  },
  {
   "cell_type": "code",
   "execution_count": null,
   "id": "116bfab9",
   "metadata": {},
   "outputs": [],
   "source": [
    "liaison.isnull().sum()"
   ]
  },
  {
   "cell_type": "code",
   "execution_count": null,
   "id": "80d99ed6",
   "metadata": {},
   "outputs": [],
   "source": [
    "liaison.isnull()"
   ]
  },
  {
   "cell_type": "code",
   "execution_count": null,
   "id": "cdb7c659",
   "metadata": {},
   "outputs": [],
   "source": [
    "# Vérification de la colonne \"product_id\"\n",
    "verifClePrimaireEtDoublons(liaison, \"product_id\")"
   ]
  },
  {
   "cell_type": "code",
   "execution_count": null,
   "id": "72b8dcb7",
   "metadata": {
    "scrolled": true
   },
   "outputs": [],
   "source": [
    "# Vérification de la colonne \"id_web\"\n",
    "verifClePrimaireEtDoublons(liaison, \"id_web\")"
   ]
  },
  {
   "cell_type": "markdown",
   "id": "d0f84527",
   "metadata": {},
   "source": [
    "### <span style=\"color:#2651ac\">4.2 - Les doublons dans le dataframe \"Liaison\"</span>"
   ]
  },
  {
   "cell_type": "code",
   "execution_count": null,
   "id": "1fb53e42",
   "metadata": {},
   "outputs": [],
   "source": [
    "# Affichage des doublons\n",
    "# Impossible d'attribuer un identifiant \"id_web\" aux \"product_id\" de manière coohérante\n",
    "print(erp.loc[(erp[\"product_id\"] == 4055) | \n",
    "              (erp[\"product_id\"] == 4090) | (erp[\"product_id\"] == 4092) | \n",
    "              (erp[\"product_id\"] == 4195) | (erp[\"product_id\"] == 4209)])"
   ]
  },
  {
   "cell_type": "markdown",
   "id": "129f2a62",
   "metadata": {},
   "source": [
    "### <span style=\"color:#2651ac\">4.3 - Création d'un dataframe avec les valeurs non null</span>"
   ]
  },
  {
   "cell_type": "code",
   "execution_count": null,
   "id": "c58ee939",
   "metadata": {},
   "outputs": [],
   "source": [
    "liaison_erp_web = liaison[liaison.notnull()]"
   ]
  },
  {
   "cell_type": "markdown",
   "id": "51cbc3cd-c4c7-4462-a626-022ad323fbdd",
   "metadata": {},
   "source": [
    "### <span style=\"color:#2651ac\">4.4 - Passage de l'id_web au format \"str\"</span>"
   ]
  },
  {
   "cell_type": "code",
   "execution_count": null,
   "id": "21c837bf-b2ce-448f-9e55-073338228fc5",
   "metadata": {},
   "outputs": [],
   "source": [
    "liaison_erp_web.info()"
   ]
  },
  {
   "cell_type": "markdown",
   "id": "69e89e37",
   "metadata": {},
   "source": [
    "### <span style=\"color:#2651ac\">4.5 - Affichage du résultat</span>"
   ]
  },
  {
   "cell_type": "code",
   "execution_count": null,
   "id": "10a372c6",
   "metadata": {},
   "outputs": [],
   "source": [
    "liaison_erp_web"
   ]
  },
  {
   "cell_type": "markdown",
   "id": "2b003a8a",
   "metadata": {},
   "source": [
    "## <span style=\"color:#1a8e88\"><u>5 - Visualisation du dataframe \"WEB\"</u></span>"
   ]
  },
  {
   "cell_type": "code",
   "execution_count": null,
   "id": "d5a155c8",
   "metadata": {},
   "outputs": [],
   "source": [
    "web"
   ]
  },
  {
   "cell_type": "code",
   "execution_count": null,
   "id": "8cc0ac82",
   "metadata": {},
   "outputs": [],
   "source": [
    "web.dtypes"
   ]
  },
  {
   "cell_type": "code",
   "execution_count": null,
   "id": "e0e74a30",
   "metadata": {},
   "outputs": [],
   "source": [
    "web.isnull().sum()"
   ]
  },
  {
   "cell_type": "code",
   "execution_count": null,
   "id": "452fe6d2",
   "metadata": {
    "scrolled": true
   },
   "outputs": [],
   "source": [
    "# Vérification que les valeurs \"null\" qui ce trouvait dans le df \"liaison\" sont présente dans le df \"web\"\n",
    "print(web.loc[(web[\"sku\"] == 4055) | (web[\"sku\"] == 4090) | \n",
    "              (web[\"sku\"] == 4092) | (web[\"sku\"] == 4195) | (web[\"sku\"] == 4209)])"
   ]
  },
  {
   "cell_type": "markdown",
   "id": "45007f4c",
   "metadata": {
    "tags": []
   },
   "source": [
    "### <span style=\"color:#2651ac\">5.1 - Découverte de deux valeurs sans identifiant</span>"
   ]
  },
  {
   "cell_type": "code",
   "execution_count": null,
   "id": "6914bfb6",
   "metadata": {},
   "outputs": [],
   "source": [
    "# Séléction des lignes \"null\" depuis la colonne \"sku\" avec tri depuis la colonne \"post_title\"\n",
    "web.loc[web[\"sku\"].isnull(),:].sort_values(\"post_title\", ascending=False)"
   ]
  },
  {
   "cell_type": "code",
   "execution_count": null,
   "id": "dd762d5d",
   "metadata": {},
   "outputs": [],
   "source": [
    "# Triage décroissant des lignes par la colonne \"SKU\" puis \"post_type\"\n",
    "web.sort_values([\"sku\", \"post_type\"], ascending=[False, False]).head(20)"
   ]
  },
  {
   "cell_type": "markdown",
   "id": "d0d62c4a",
   "metadata": {},
   "source": [
    "### <span style=\"color:#2651ac\">5.2 - Renommage de la colone \"sku\" par \"id_web\"</span>"
   ]
  },
  {
   "cell_type": "code",
   "execution_count": null,
   "id": "ab26cccc",
   "metadata": {},
   "outputs": [],
   "source": [
    "web.rename(columns={\"sku\" : \"id_web\"}, inplace=True)"
   ]
  },
  {
   "cell_type": "markdown",
   "id": "25641544",
   "metadata": {},
   "source": [
    "### <span style=\"color:#2651ac\">5.3 - Selection des lignes utilisable pour l'analyse</span>"
   ]
  },
  {
   "cell_type": "code",
   "execution_count": null,
   "id": "1b29c002",
   "metadata": {
    "scrolled": true
   },
   "outputs": [],
   "source": [
    "# Création d'un nouveau df avec uniquement les lignes d'origine (df : web) ayant une valeur entre \"post_type\" et \"product\"\n",
    "web_pdt = web[web[\"post_type\"] == \"product\"]\n",
    "web_pdt"
   ]
  },
  {
   "cell_type": "markdown",
   "id": "7b967772",
   "metadata": {},
   "source": [
    "### <span style=\"color:#2651ac\">5.4 - Affichage des doublons</span>"
   ]
  },
  {
   "cell_type": "code",
   "execution_count": null,
   "id": "c616d634",
   "metadata": {},
   "outputs": [],
   "source": [
    "duplicates = web_pdt[web_pdt.duplicated(subset=[\"id_web\"], keep=False)]\n",
    "display(duplicates)"
   ]
  },
  {
   "cell_type": "markdown",
   "id": "254c6986",
   "metadata": {},
   "source": [
    "### <span style=\"color:#2651ac\">5.5 - Suppression des valeurs sans identifiant</span>"
   ]
  },
  {
   "cell_type": "code",
   "execution_count": null,
   "id": "e7646ed9",
   "metadata": {},
   "outputs": [],
   "source": [
    "web_produit = web_pdt.dropna(subset=[\"id_web\"])"
   ]
  },
  {
   "cell_type": "code",
   "execution_count": null,
   "id": "6c2077db",
   "metadata": {},
   "outputs": [],
   "source": [
    "web_produit"
   ]
  },
  {
   "cell_type": "markdown",
   "id": "5746ebab-33be-470b-8862-b36912c5da00",
   "metadata": {},
   "source": [
    "### <span style=\"color:#2651ac\">5.6 - Suppression des colonnes ayant des valeurs unique</span>"
   ]
  },
  {
   "cell_type": "code",
   "execution_count": null,
   "id": "276350bd-99c6-4fa0-8042-40a93548af97",
   "metadata": {},
   "outputs": [],
   "source": [
    "# Calcul du nombre de valeurs uniques\n",
    "web_unique = web_produit.apply(pd.Series.nunique)\n",
    "\n",
    "# Stockage des colonnes avec la condition dans une variable\n",
    "drop_col = web_unique[web_unique ==1].index\n",
    "\n",
    "# Suppression des colonnes identifiées dans l'étape précédante\n",
    "web_produit = web_produit.drop(drop_col, axis=1)"
   ]
  },
  {
   "cell_type": "markdown",
   "id": "d522e0d4-d2a7-4c9a-bdd3-0801bab18e26",
   "metadata": {},
   "source": [
    "#### <span style=\"color:#0092a8\">5.6.1 - Affichage du résultat</span>"
   ]
  },
  {
   "cell_type": "code",
   "execution_count": null,
   "id": "bb780758-c0af-49fa-947b-757e5065543b",
   "metadata": {},
   "outputs": [],
   "source": [
    "web_produit.info()"
   ]
  },
  {
   "cell_type": "code",
   "execution_count": null,
   "id": "b01be78a-7891-4392-b314-572acd64060b",
   "metadata": {},
   "outputs": [],
   "source": [
    "verifClePrimaireEtDoublons(web_produit, \"id_web\")"
   ]
  },
  {
   "cell_type": "markdown",
   "id": "b7c1efd8-93e8-4465-8658-ccf27dbfcc3d",
   "metadata": {},
   "source": [
    "---"
   ]
  },
  {
   "cell_type": "markdown",
   "id": "a0adffe3-826d-4b6a-a2c5-e846c4f5165d",
   "metadata": {},
   "source": [
    "## <span style=\"color:#1a8e88\"><u>6 - Les demandes de Laurent</u></span>"
   ]
  },
  {
   "cell_type": "markdown",
   "id": "0453c820-6545-4e29-9cf9-be3376889732",
   "metadata": {},
   "source": [
    "### <span style=\"color:#2651ac\">6.1 - Rapprochement entre les dataframes \"ERP\" et \"web\"</span>"
   ]
  },
  {
   "cell_type": "code",
   "execution_count": null,
   "id": "510844b3-2a86-4ba6-8f91-c8aba25a516c",
   "metadata": {},
   "outputs": [],
   "source": [
    "erp.info()"
   ]
  },
  {
   "cell_type": "markdown",
   "id": "48ca8065-299f-42f7-9581-635f1ee6ce0b",
   "metadata": {},
   "source": [
    "### <span style=\"color:#2651ac\">6.2 - Merge des dataframes</span>"
   ]
  },
  {
   "cell_type": "code",
   "execution_count": null,
   "id": "eeeeee2c",
   "metadata": {},
   "outputs": [],
   "source": [
    "#la jointure \"outer\" conserve toutes les lignes des deux dataframes et précise d'ou proviennent les données.\n",
    "erp_liaison = pd.merge(erp, liaison_erp_web, on=\"product_id\", how=\"outer\", indicator=True)\n",
    "erp_liaison"
   ]
  },
  {
   "cell_type": "code",
   "execution_count": null,
   "id": "9ef384cb",
   "metadata": {},
   "outputs": [],
   "source": [
    "#Verification des valeurs null\n",
    "erp_liaison.isnull().sum()"
   ]
  },
  {
   "cell_type": "code",
   "execution_count": null,
   "id": "6f275294-ae4b-41ca-8cc8-603a6eb63dca",
   "metadata": {},
   "outputs": [],
   "source": [
    "# Calcul des occurences de la colonne \"_merge\"\n",
    "merged = erp_liaison[\"_merge\"].value_counts()\n",
    "print(merged)"
   ]
  },
  {
   "cell_type": "code",
   "execution_count": null,
   "id": "b9e37b55-2b38-4387-8e29-922325fa287d",
   "metadata": {},
   "outputs": [],
   "source": [
    "erp_liaison[erp_liaison[\"_merge\"]==\"both\"]"
   ]
  },
  {
   "cell_type": "code",
   "execution_count": null,
   "id": "907d6487-e4e1-4f78-b9b9-758131014878",
   "metadata": {},
   "outputs": [],
   "source": [
    "# Création d'un df avec uniquement les valeurs non null\n",
    "erp_liaison_nonull = erp_liaison[erp_liaison[\"id_web\"].notna()]"
   ]
  },
  {
   "cell_type": "code",
   "execution_count": null,
   "id": "f14d2daf-4fd0-438e-9824-6c7d16df1f8a",
   "metadata": {},
   "outputs": [],
   "source": [
    "print(erp_liaison_nonull)"
   ]
  },
  {
   "cell_type": "code",
   "execution_count": null,
   "id": "810966ea-4896-473c-95dd-67aa88dc5432",
   "metadata": {
    "tags": []
   },
   "outputs": [],
   "source": [
    "# Calcul des occurences de la colonne \"_merge\"\n",
    "merged = erp_liaison_nonull[\"_merge\"].value_counts()\n",
    "print(merged)"
   ]
  },
  {
   "cell_type": "code",
   "execution_count": null,
   "id": "e325fed8-d040-471b-9536-b3a37a3cbdc3",
   "metadata": {},
   "outputs": [],
   "source": [
    "# Suppression de la colonne \"_merge\" \n",
    "del erp_liaison_nonull[\"_merge\"]"
   ]
  },
  {
   "cell_type": "code",
   "execution_count": null,
   "id": "1e9d43ed-0eee-40ca-b735-4236a449c7b2",
   "metadata": {},
   "outputs": [],
   "source": [
    "# La jointure \"outer\" conserve toutes les lignes des deux dataframes et précise d'ou proviennent les données.\n",
    "erp_liaison_web = pd.merge(web_produit, erp_liaison_nonull, on=\"id_web\", how=\"outer\", indicator=True)"
   ]
  },
  {
   "cell_type": "code",
   "execution_count": null,
   "id": "ec7aa54c-fffa-4015-9d0e-eff3c339cef9",
   "metadata": {},
   "outputs": [],
   "source": [
    "erp_liaison_web"
   ]
  },
  {
   "cell_type": "code",
   "execution_count": null,
   "id": "bd9dafd4-6b3c-4d0d-a4b8-4dc666ecb5bc",
   "metadata": {},
   "outputs": [],
   "source": [
    "erp_liaison_web.isnull().sum()"
   ]
  },
  {
   "cell_type": "code",
   "execution_count": null,
   "id": "4ae55937-8c63-4dc9-8957-00c75be30bcd",
   "metadata": {},
   "outputs": [],
   "source": [
    "# Calcul des occurences de la colonne \"_merge\"\n",
    "merged = erp_liaison_web[\"_merge\"].value_counts()\n",
    "print(merged)"
   ]
  },
  {
   "cell_type": "code",
   "execution_count": null,
   "id": "16d45b8f-f286-4adc-94ea-77f755c8cc0e",
   "metadata": {},
   "outputs": [],
   "source": [
    "# Selection des lignes du dataframe ayant la condition \"both\" c'est a dire qu'il sont dans les deux df\n",
    "erp_liaison_web = erp_liaison_web[erp_liaison_web[\"_merge\"] == \"both\"]"
   ]
  },
  {
   "cell_type": "code",
   "execution_count": null,
   "id": "b8cdf782-49f9-4685-a096-7133e5453167",
   "metadata": {},
   "outputs": [],
   "source": [
    "# Calcul des occurences de la colonne \"_merge\"\n",
    "rendu_erp_web = erp_liaison_web[\"_merge\"].value_counts()\n",
    "print(rendu_erp_web)"
   ]
  },
  {
   "cell_type": "code",
   "execution_count": null,
   "id": "1687ae12-e2d8-4160-b1eb-99e7cbb2a2ca",
   "metadata": {},
   "outputs": [],
   "source": [
    "# Suppression de la colonne \"_merge\"\n",
    "del erp_liaison_web[\"_merge\"]"
   ]
  },
  {
   "cell_type": "code",
   "execution_count": null,
   "id": "ba9a826d-2ea2-4b7b-a0aa-dac1561dc26c",
   "metadata": {},
   "outputs": [],
   "source": [
    "erp_liaison_web.info()"
   ]
  },
  {
   "cell_type": "markdown",
   "id": "77f28eb5-b285-482d-a69d-1a9a3590128d",
   "metadata": {},
   "source": [
    "## <span style=\"color:#1a8e88\"><u>7 - Calculs </u></span>"
   ]
  },
  {
   "cell_type": "markdown",
   "id": "53b1c66d-755d-4a64-9549-ddef1c2f975d",
   "metadata": {},
   "source": [
    "### <span style=\"color:#2651ac\">7.1 - Chiffre d'affaire par produits</span>"
   ]
  },
  {
   "cell_type": "markdown",
   "id": "0cb21d40-a321-4ad0-bb76-a41cda630720",
   "metadata": {},
   "source": [
    "#### <span style=\"color:#0092a8\">7.1.1 - Création et préparation du dataframe \"ca_pdt\"</span>"
   ]
  },
  {
   "cell_type": "code",
   "execution_count": null,
   "id": "64a06655-39c6-408a-a88b-2c49cfd268c6",
   "metadata": {},
   "outputs": [],
   "source": [
    "# Selection des colonnes pour le df\n",
    "# Renomage des colonnes\n",
    "# Définition de \"ID_Produits\" comme index pour le nouveau dataframe\n",
    "ca_pdt = erp_liaison_web[[\"product_id\", \"id_web\", \"post_title\", \"stock_quantity\", \"price\", \"onsale_web\", \"total_sales\"]].rename(columns={\"product_id\":\"ID_Produits\", \"post_title\":\"Titre\", \"stock_quantity\":\"Stock_dispo\", \"id_web\":\"ID_Web\", \"price\":\"Prix\", \"onsale_web\":\"Vente_Web\", \"total_sales\":\"Vente_total\"})\n",
    "ca_pdt.set_index(\"ID_Produits\", inplace=True)\n",
    "ca_pdt[\"Vente_total\"].isnull().sum()"
   ]
  },
  {
   "cell_type": "code",
   "execution_count": null,
   "id": "76aae869-8f98-4392-82c4-eedee07f1f70",
   "metadata": {},
   "outputs": [],
   "source": [
    "# Passage des valeurs de la colonnes \"Vente_total\" en entier (integer)\n",
    "ca_pdt[\"Vente_total\"] = ca_pdt[\"Vente_total\"].astype(int)"
   ]
  },
  {
   "cell_type": "code",
   "execution_count": null,
   "id": "2bbac243-db5f-4453-8afc-954251121fe5",
   "metadata": {},
   "outputs": [],
   "source": [
    "ca_pdt"
   ]
  },
  {
   "cell_type": "code",
   "execution_count": null,
   "id": "50de1f0b-cd99-4f4f-97e9-2d6fa1f0b74c",
   "metadata": {},
   "outputs": [],
   "source": [
    "# Calcul du Chiffre d'affaire en multipliant les valeurs de la colonne \"Prix\" avec les valeurs de la colonne \"Vente_total\" \n",
    "ca_pdt[\"Chiffre_affaire\"] = (ca_pdt[\"Prix\"] * ca_pdt[\"Vente_total\"])"
   ]
  },
  {
   "cell_type": "code",
   "execution_count": null,
   "id": "be171fde-effe-436b-b2b9-82ccfc84660f",
   "metadata": {},
   "outputs": [],
   "source": [
    "# Classement des 10 meilleurs vente \n",
    "ca_pdt.sort_values(by=[\"Vente_total\"], ascending=False).head(10)"
   ]
  },
  {
   "cell_type": "markdown",
   "id": "03074845-0eb1-4dc3-a44f-11111308d69b",
   "metadata": {},
   "source": [
    "### <span style=\"color:#2651ac\">7.2 - CA total en ligne</span>"
   ]
  },
  {
   "cell_type": "code",
   "execution_count": null,
   "id": "2a01abe4-8f54-443f-ae9f-181e312fc569",
   "metadata": {},
   "outputs": [],
   "source": [
    "# Calcul du chiffre d'affaire total\n",
    "total_ca = ca_pdt[\"Chiffre_affaire\"].sum()\n",
    "print(\"Le chiffre d'affaire total est de :\", total_ca,\"€, incluant 250 € de bons-cadeaux. (10 x 25€)\")"
   ]
  },
  {
   "cell_type": "markdown",
   "id": "8ecb2382-3470-43be-8d84-1b16f928ca66",
   "metadata": {},
   "source": [
    "### <span style=\"color:#2651ac\">7.3 - Détéction des valeurs abérantes</span>"
   ]
  },
  {
   "cell_type": "markdown",
   "id": "5e8f60e0-e407-41d2-8fbf-fcf325c11921",
   "metadata": {},
   "source": [
    "### <span style=\"color:#2651ac\">7.3.1 - Calcul des quartiles avec la fonction \"quantile\"</span>"
   ]
  },
  {
   "cell_type": "code",
   "execution_count": null,
   "id": "815e2fde-c307-459b-99bb-aa57a618d277",
   "metadata": {},
   "outputs": [],
   "source": [
    "# Affichage du diagramme en boite (ou boite à moustache) représentant les quantiles et les outliers\n",
    "plt.figure(figsize=(20,5))\n",
    "plt.xticks(np.arange(5, 275, 5))\n",
    "sns.boxplot(x=ca_pdt[\"Prix\"], flierprops=dict(markerfacecolor='red', markersize=6))\n",
    "plt.show()"
   ]
  },
  {
   "cell_type": "code",
   "execution_count": null,
   "id": "f9c2f0c5-ee7b-48ac-b65d-7efa8c5d2c54",
   "metadata": {},
   "outputs": [],
   "source": [
    "# Le quantile 0.25 représente le premier quartile qui est la valeurs inférieur à laquelle se trouve 25% des données  \n",
    "Q1 = round(ca_pdt.Prix.quantile(0.25),2)\n",
    "#Le quantile supérieur réprésente 25% des données les plus grandes\n",
    "Q3 = round(ca_pdt.Prix.quantile(0.75),2)\n",
    "print(\"{:.2f} €\".format(Q1))\n",
    "print(\"{:.2f} €\".format(Q3))"
   ]
  },
  {
   "cell_type": "code",
   "execution_count": null,
   "id": "17d0cef0-7df5-4d8f-a5ad-a88fdcaa1243",
   "metadata": {},
   "outputs": [],
   "source": [
    "# Calcul de l'inter quartile \"IQR\"\n",
    "IQR = Q3 - Q1\n",
    "IQR"
   ]
  },
  {
   "cell_type": "code",
   "execution_count": null,
   "id": "5232d8b9-c26f-4d76-8a4d-aef69647f055",
   "metadata": {},
   "outputs": [],
   "source": [
    "#Calcul des limites inférieure et supérieure pour la détéction des valeurs abbérantes\n",
    "limite_inférieure = round(Q1 - 1.5*IQR,2)\n",
    "limite_supérieure = round(Q3 + 1.5*IQR,2)\n",
    "limite_inférieure, limite_supérieure"
   ]
  },
  {
   "cell_type": "code",
   "execution_count": null,
   "id": "9a4c6a8f-ec4a-4a9f-a450-89a4a0d973b8",
   "metadata": {},
   "outputs": [],
   "source": [
    "ca_pdt[(ca_pdt.Prix>limite_supérieure) | (ca_pdt.Prix<limite_inférieure)].sort_values(by=\"Prix\", ascending=False)"
   ]
  },
  {
   "cell_type": "markdown",
   "id": "db6dc311-e1b1-4def-8d41-83e72fd11136",
   "metadata": {},
   "source": [
    "## <span style=\"color:#1a8e88\"><u>Conclusion</u></span>"
   ]
  },
  {
   "cell_type": "markdown",
   "id": "4b56ba72-6446-4ba0-9027-7d3076f95263",
   "metadata": {},
   "source": [
    "### Cette analyse a révélé que certains tarifs pour les vins, champagnes et alcools peuvent sembler élevés, mais il est courant de trouver des produits à ces prix. Par exemple, en 2018, une bouteille de \"Château Margaux\" pour le millésime 2009 a pu coûter environ 1800 €, et les millésimes plus anciens peuvent coûter encore plus cher (Château Margaux 1787 à 137580 €). À l'inverse, certains vins de table peuvent être vendus à environ 1,50€ la bouteille.\n",
    "### Il peut être difficile d'utiliser le terme \"valeurs aberrantes\" pour ce type de produits, compte tenu des différences entre un vin de table, un Grand Cru et un millésime."
   ]
  }
 ],
 "metadata": {
  "kernelspec": {
   "display_name": "Python 3 (ipykernel)",
   "language": "python",
   "name": "python3"
  },
  "language_info": {
   "codemirror_mode": {
    "name": "ipython",
    "version": 3
   },
   "file_extension": ".py",
   "mimetype": "text/x-python",
   "name": "python",
   "nbconvert_exporter": "python",
   "pygments_lexer": "ipython3",
   "version": "3.10.9"
  },
  "toc-autonumbering": false,
  "toc-showcode": true,
  "toc-showmarkdowntxt": true
 },
 "nbformat": 4,
 "nbformat_minor": 5
}
